{
 "cells": [
  {
   "cell_type": "markdown",
   "id": "80f51dc3-459b-416e-8253-d4aa83f64a9e",
   "metadata": {},
   "source": [
    "# Group Project Proposal\n",
    "\n",
    "\n",
    "\n",
    "### Introduction\n",
    "\n",
    "We are choosing to conduct our DSCI 100 project on datasets containing various pro-level tennis matches and individual player stats.\n",
    "\n",
    "\n",
    "Tennis is a sport played globally between individuals competing within varrying levels of skill ranging from beginner to professional-level play. Thus it is clear that there exists a strong global interest worth allocating resources and time on to answer a predictive question.\n",
    "\n",
    "\n",
    "Utilizng classficiation, we aim to answer a predictive question regarding the outcome a particular pro-level match based on the 2017-2019 tennis match stats. The question we aim to answer is: **Predict the winner of a match based on current rank points, age, and duration of match**.\n"
   ]
  },
  {
   "cell_type": "code",
   "execution_count": null,
   "id": "7c0897ab-6a23-4f71-91ac-307d215ea84f",
   "metadata": {},
   "outputs": [],
   "source": []
  }
 ],
 "metadata": {
  "kernelspec": {
   "display_name": "R",
   "language": "R",
   "name": "ir"
  },
  "language_info": {
   "codemirror_mode": "r",
   "file_extension": ".r",
   "mimetype": "text/x-r-source",
   "name": "R",
   "pygments_lexer": "r",
   "version": "4.1.3"
  }
 },
 "nbformat": 4,
 "nbformat_minor": 5
}
