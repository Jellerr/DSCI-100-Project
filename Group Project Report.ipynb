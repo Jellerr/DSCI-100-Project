{
 "cells": [
  {
   "cell_type": "markdown",
   "id": "d8d012b8",
   "metadata": {},
   "source": [
    "# Using K-Nearest Neighbor Classification to Predict Tennis Player Success: A Study of Title Wins\n",
    "\n",
    "\n",
    "\n",
    "### Introduction\n",
    "\n",
    "Tennis is a sport played globally between individuals competing within varying levels of skill ranging from beginner to professional-level play. Thus it is clear that there exists a strong global interest worth allocating resources and time on to answer a predictive question.\n",
    "\n",
    "Utilizing classification, we aim to answer a predictive question regarding if a player holds one or more titles (i.e. if they have won one or more tournaments) based on the top 500 tennis player stats dataset. The question we aim to answer is: **Does the tennis player hold one or more titles given their best rank, number of seasons played, and age?**. The dataset used is contained within the data folder provided within the project repo, and it provides a variety of data points for each professional tennis player, such as their height, favorite surface, and the year that they turned pro.\n"
   ]
  },
  {
   "cell_type": "markdown",
   "id": "162713aa",
   "metadata": {},
   "source": [
    "### Preliminary Exploratory Data Analysis"
   ]
  },
  {
   "cell_type": "code",
   "execution_count": 1,
   "id": "005944bd",
   "metadata": {},
   "outputs": [
    {
     "name": "stderr",
     "output_type": "stream",
     "text": [
      "── \u001b[1mAttaching packages\u001b[22m ─────────────────────────────────────── tidyverse 1.3.1 ──\n",
      "\n",
      "\u001b[32m✔\u001b[39m \u001b[34mggplot2\u001b[39m 3.3.6     \u001b[32m✔\u001b[39m \u001b[34mdplyr  \u001b[39m 1.0.9\n",
      "\u001b[32m✔\u001b[39m \u001b[34mtibble \u001b[39m 3.1.7     \u001b[32m✔\u001b[39m \u001b[34mstringr\u001b[39m 1.4.0\n",
      "\u001b[32m✔\u001b[39m \u001b[34mtidyr  \u001b[39m 1.2.0     \u001b[32m✔\u001b[39m \u001b[34mforcats\u001b[39m 0.5.1\n",
      "\u001b[32m✔\u001b[39m \u001b[34mpurrr  \u001b[39m 0.3.4     \n",
      "\n",
      "── \u001b[1mConflicts\u001b[22m ────────────────────────────────────────── tidyverse_conflicts() ──\n",
      "\u001b[31m✖\u001b[39m \u001b[34mdplyr\u001b[39m::\u001b[32mfilter()\u001b[39m masks \u001b[34mstats\u001b[39m::filter()\n",
      "\u001b[31m✖\u001b[39m \u001b[34mdplyr\u001b[39m::\u001b[32mlag()\u001b[39m    masks \u001b[34mstats\u001b[39m::lag()\n",
      "\n",
      "── \u001b[1mAttaching packages\u001b[22m ────────────────────────────────────── tidymodels 1.0.0 ──\n",
      "\n",
      "\u001b[32m✔\u001b[39m \u001b[34mbroom       \u001b[39m 1.0.0     \u001b[32m✔\u001b[39m \u001b[34mrsample     \u001b[39m 1.0.0\n",
      "\u001b[32m✔\u001b[39m \u001b[34mdials       \u001b[39m 1.0.0     \u001b[32m✔\u001b[39m \u001b[34mtune        \u001b[39m 1.0.0\n",
      "\u001b[32m✔\u001b[39m \u001b[34minfer       \u001b[39m 1.0.2     \u001b[32m✔\u001b[39m \u001b[34mworkflows   \u001b[39m 1.0.0\n",
      "\u001b[32m✔\u001b[39m \u001b[34mmodeldata   \u001b[39m 1.0.0     \u001b[32m✔\u001b[39m \u001b[34mworkflowsets\u001b[39m 1.0.0\n",
      "\u001b[32m✔\u001b[39m \u001b[34mparsnip     \u001b[39m 1.0.0     \u001b[32m✔\u001b[39m \u001b[34myardstick   \u001b[39m 1.0.0\n",
      "\u001b[32m✔\u001b[39m \u001b[34mrecipes     \u001b[39m 1.0.1     \n",
      "\n",
      "── \u001b[1mConflicts\u001b[22m ───────────────────────────────────────── tidymodels_conflicts() ──\n",
      "\u001b[31m✖\u001b[39m \u001b[34mscales\u001b[39m::\u001b[32mdiscard()\u001b[39m masks \u001b[34mpurrr\u001b[39m::discard()\n",
      "\u001b[31m✖\u001b[39m \u001b[34mdplyr\u001b[39m::\u001b[32mfilter()\u001b[39m   masks \u001b[34mstats\u001b[39m::filter()\n",
      "\u001b[31m✖\u001b[39m \u001b[34mrecipes\u001b[39m::\u001b[32mfixed()\u001b[39m  masks \u001b[34mstringr\u001b[39m::fixed()\n",
      "\u001b[31m✖\u001b[39m \u001b[34mdplyr\u001b[39m::\u001b[32mlag()\u001b[39m      masks \u001b[34mstats\u001b[39m::lag()\n",
      "\u001b[31m✖\u001b[39m \u001b[34myardstick\u001b[39m::\u001b[32mspec()\u001b[39m masks \u001b[34mreadr\u001b[39m::spec()\n",
      "\u001b[31m✖\u001b[39m \u001b[34mrecipes\u001b[39m::\u001b[32mstep()\u001b[39m   masks \u001b[34mstats\u001b[39m::step()\n",
      "\u001b[34m•\u001b[39m Use suppressPackageStartupMessages() to eliminate package startup messages\n",
      "\n"
     ]
    }
   ],
   "source": [
    "library(repr)\n",
    "library(cowplot)\n",
    "library(readr)\n",
    "library(tidyverse)\n",
    "library(tidymodels)\n",
    "options(repr.matrix.max.rows = 6)\n",
    "set.seed(1)"
   ]
  },
  {
   "cell_type": "code",
   "execution_count": 2,
   "id": "7b8e433d",
   "metadata": {},
   "outputs": [
    {
     "name": "stderr",
     "output_type": "stream",
     "text": [
      "\u001b[1m\u001b[22mNew names:\n",
      "\u001b[36m•\u001b[39m `` -> `...1`\n",
      "\u001b[1mRows: \u001b[22m\u001b[34m500\u001b[39m \u001b[1mColumns: \u001b[22m\u001b[34m38\u001b[39m\n",
      "\u001b[36m──\u001b[39m \u001b[1mColumn specification\u001b[22m \u001b[36m────────────────────────────────────────────────────────\u001b[39m\n",
      "\u001b[1mDelimiter:\u001b[22m \",\"\n",
      "\u001b[31mchr\u001b[39m (25): Age, Country, Plays, Wikipedia, Current Rank, Best Rank, Name, Bac...\n",
      "\u001b[32mdbl\u001b[39m (13): ...1, Turned Pro, Seasons, Titles, Best Season, Retired, Masters, ...\n",
      "\n",
      "\u001b[36mℹ\u001b[39m Use `spec()` to retrieve the full column specification for this data.\n",
      "\u001b[36mℹ\u001b[39m Specify the column types or set `show_col_types = FALSE` to quiet this message.\n"
     ]
    },
    {
     "data": {
      "text/html": [
       "<table class=\"dataframe\">\n",
       "<caption>A spec_tbl_df: 500 × 38</caption>\n",
       "<thead>\n",
       "\t<tr><th scope=col>...1</th><th scope=col>Age</th><th scope=col>Country</th><th scope=col>Plays</th><th scope=col>Wikipedia</th><th scope=col>Current Rank</th><th scope=col>Best Rank</th><th scope=col>Name</th><th scope=col>Backhand</th><th scope=col>Prize Money</th><th scope=col>⋯</th><th scope=col>Facebook</th><th scope=col>Twitter</th><th scope=col>Nicknames</th><th scope=col>Grand Slams</th><th scope=col>Davis Cups</th><th scope=col>Web Site</th><th scope=col>Team Cups</th><th scope=col>Olympics</th><th scope=col>Weeks at No. 1</th><th scope=col>Tour Finals</th></tr>\n",
       "\t<tr><th scope=col>&lt;dbl&gt;</th><th scope=col>&lt;chr&gt;</th><th scope=col>&lt;chr&gt;</th><th scope=col>&lt;chr&gt;</th><th scope=col>&lt;chr&gt;</th><th scope=col>&lt;chr&gt;</th><th scope=col>&lt;chr&gt;</th><th scope=col>&lt;chr&gt;</th><th scope=col>&lt;chr&gt;</th><th scope=col>&lt;chr&gt;</th><th scope=col>⋯</th><th scope=col>&lt;chr&gt;</th><th scope=col>&lt;chr&gt;</th><th scope=col>&lt;chr&gt;</th><th scope=col>&lt;dbl&gt;</th><th scope=col>&lt;dbl&gt;</th><th scope=col>&lt;chr&gt;</th><th scope=col>&lt;dbl&gt;</th><th scope=col>&lt;dbl&gt;</th><th scope=col>&lt;dbl&gt;</th><th scope=col>&lt;dbl&gt;</th></tr>\n",
       "</thead>\n",
       "<tbody>\n",
       "\t<tr><td>0</td><td>26 (25-04-1993)</td><td>Brazil        </td><td>Right-handed</td><td>Wikipedia</td><td>378 (97) </td><td>363 (04-11-2019)</td><td>Oscar Jose Gutierrez</td><td>NA        </td><td>NA          </td><td>⋯</td><td>NA</td><td>NA</td><td>NA</td><td>NA</td><td>NA</td><td>NA</td><td>NA</td><td>NA</td><td>NA</td><td>NA</td></tr>\n",
       "\t<tr><td>1</td><td>18 (22-12-2001)</td><td>United Kingdom</td><td>Left-handed </td><td>Wikipedia</td><td>326 (119)</td><td>316 (14-10-2019)</td><td>Jack Draper         </td><td>Two-handed</td><td>$59,040     </td><td>⋯</td><td>NA</td><td>NA</td><td>NA</td><td>NA</td><td>NA</td><td>NA</td><td>NA</td><td>NA</td><td>NA</td><td>NA</td></tr>\n",
       "\t<tr><td>2</td><td>32 (03-11-1987)</td><td>Slovakia      </td><td>Right-handed</td><td>Wikipedia</td><td>178 (280)</td><td>44 (14-01-2013) </td><td>Lukas Lacko         </td><td>Two-handed</td><td>US$3,261,567</td><td>⋯</td><td>NA</td><td>NA</td><td>NA</td><td>NA</td><td>NA</td><td>NA</td><td>NA</td><td>NA</td><td>NA</td><td>NA</td></tr>\n",
       "\t<tr><td>⋮</td><td>⋮</td><td>⋮</td><td>⋮</td><td>⋮</td><td>⋮</td><td>⋮</td><td>⋮</td><td>⋮</td><td>⋮</td><td>⋱</td><td>⋮</td><td>⋮</td><td>⋮</td><td>⋮</td><td>⋮</td><td>⋮</td><td>⋮</td><td>⋮</td><td>⋮</td><td>⋮</td></tr>\n",
       "\t<tr><td>497</td><td>23 (14-03-1996)</td><td>Netherlands</td><td>Left-handed</td><td>Wikipedia</td><td>495 (60)</td><td>342 (05-08-2019)</td><td>Gijs Brouwer   </td><td>NA        </td><td>NA     </td><td>⋯</td><td>NA</td><td>NA</td><td>NA</td><td>NA</td><td>NA</td><td>NA</td><td>NA</td><td>NA</td><td>NA</td><td>NA</td></tr>\n",
       "\t<tr><td>498</td><td>24 (17-05-1995)</td><td>Ukraine    </td><td>NA         </td><td>Wikipedia</td><td>419 (81)</td><td>419 (20-01-2020)</td><td>Vladyslav Orlov</td><td>NA        </td><td>NA     </td><td>⋯</td><td>NA</td><td>NA</td><td>NA</td><td>NA</td><td>NA</td><td>NA</td><td>NA</td><td>NA</td><td>NA</td><td>NA</td></tr>\n",
       "\t<tr><td>499</td><td>22 (26-03-1997)</td><td>Tunisia    </td><td>Left-handed</td><td>Wikipedia</td><td>451 (69)</td><td>408 (24-12-2018)</td><td>Aziz Dougaz    </td><td>Two-handed</td><td>$61,984</td><td>⋯</td><td>NA</td><td>NA</td><td>NA</td><td>NA</td><td>NA</td><td>NA</td><td>NA</td><td>NA</td><td>NA</td><td>NA</td></tr>\n",
       "</tbody>\n",
       "</table>\n"
      ],
      "text/latex": [
       "A spec\\_tbl\\_df: 500 × 38\n",
       "\\begin{tabular}{lllllllllllllllllllll}\n",
       " ...1 & Age & Country & Plays & Wikipedia & Current Rank & Best Rank & Name & Backhand & Prize Money & ⋯ & Facebook & Twitter & Nicknames & Grand Slams & Davis Cups & Web Site & Team Cups & Olympics & Weeks at No. 1 & Tour Finals\\\\\n",
       " <dbl> & <chr> & <chr> & <chr> & <chr> & <chr> & <chr> & <chr> & <chr> & <chr> & ⋯ & <chr> & <chr> & <chr> & <dbl> & <dbl> & <chr> & <dbl> & <dbl> & <dbl> & <dbl>\\\\\n",
       "\\hline\n",
       "\t 0 & 26 (25-04-1993) & Brazil         & Right-handed & Wikipedia & 378 (97)  & 363 (04-11-2019) & Oscar Jose Gutierrez & NA         & NA           & ⋯ & NA & NA & NA & NA & NA & NA & NA & NA & NA & NA\\\\\n",
       "\t 1 & 18 (22-12-2001) & United Kingdom & Left-handed  & Wikipedia & 326 (119) & 316 (14-10-2019) & Jack Draper          & Two-handed & \\$59,040      & ⋯ & NA & NA & NA & NA & NA & NA & NA & NA & NA & NA\\\\\n",
       "\t 2 & 32 (03-11-1987) & Slovakia       & Right-handed & Wikipedia & 178 (280) & 44 (14-01-2013)  & Lukas Lacko          & Two-handed & US\\$3,261,567 & ⋯ & NA & NA & NA & NA & NA & NA & NA & NA & NA & NA\\\\\n",
       "\t ⋮ & ⋮ & ⋮ & ⋮ & ⋮ & ⋮ & ⋮ & ⋮ & ⋮ & ⋮ & ⋱ & ⋮ & ⋮ & ⋮ & ⋮ & ⋮ & ⋮ & ⋮ & ⋮ & ⋮ & ⋮\\\\\n",
       "\t 497 & 23 (14-03-1996) & Netherlands & Left-handed & Wikipedia & 495 (60) & 342 (05-08-2019) & Gijs Brouwer    & NA         & NA      & ⋯ & NA & NA & NA & NA & NA & NA & NA & NA & NA & NA\\\\\n",
       "\t 498 & 24 (17-05-1995) & Ukraine     & NA          & Wikipedia & 419 (81) & 419 (20-01-2020) & Vladyslav Orlov & NA         & NA      & ⋯ & NA & NA & NA & NA & NA & NA & NA & NA & NA & NA\\\\\n",
       "\t 499 & 22 (26-03-1997) & Tunisia     & Left-handed & Wikipedia & 451 (69) & 408 (24-12-2018) & Aziz Dougaz     & Two-handed & \\$61,984 & ⋯ & NA & NA & NA & NA & NA & NA & NA & NA & NA & NA\\\\\n",
       "\\end{tabular}\n"
      ],
      "text/markdown": [
       "\n",
       "A spec_tbl_df: 500 × 38\n",
       "\n",
       "| ...1 &lt;dbl&gt; | Age &lt;chr&gt; | Country &lt;chr&gt; | Plays &lt;chr&gt; | Wikipedia &lt;chr&gt; | Current Rank &lt;chr&gt; | Best Rank &lt;chr&gt; | Name &lt;chr&gt; | Backhand &lt;chr&gt; | Prize Money &lt;chr&gt; | ⋯ ⋯ | Facebook &lt;chr&gt; | Twitter &lt;chr&gt; | Nicknames &lt;chr&gt; | Grand Slams &lt;dbl&gt; | Davis Cups &lt;dbl&gt; | Web Site &lt;chr&gt; | Team Cups &lt;dbl&gt; | Olympics &lt;dbl&gt; | Weeks at No. 1 &lt;dbl&gt; | Tour Finals &lt;dbl&gt; |\n",
       "|---|---|---|---|---|---|---|---|---|---|---|---|---|---|---|---|---|---|---|---|---|\n",
       "| 0 | 26 (25-04-1993) | Brazil         | Right-handed | Wikipedia | 378 (97)  | 363 (04-11-2019) | Oscar Jose Gutierrez | NA         | NA           | ⋯ | NA | NA | NA | NA | NA | NA | NA | NA | NA | NA |\n",
       "| 1 | 18 (22-12-2001) | United Kingdom | Left-handed  | Wikipedia | 326 (119) | 316 (14-10-2019) | Jack Draper          | Two-handed | $59,040      | ⋯ | NA | NA | NA | NA | NA | NA | NA | NA | NA | NA |\n",
       "| 2 | 32 (03-11-1987) | Slovakia       | Right-handed | Wikipedia | 178 (280) | 44 (14-01-2013)  | Lukas Lacko          | Two-handed | US$3,261,567 | ⋯ | NA | NA | NA | NA | NA | NA | NA | NA | NA | NA |\n",
       "| ⋮ | ⋮ | ⋮ | ⋮ | ⋮ | ⋮ | ⋮ | ⋮ | ⋮ | ⋮ | ⋱ | ⋮ | ⋮ | ⋮ | ⋮ | ⋮ | ⋮ | ⋮ | ⋮ | ⋮ | ⋮ |\n",
       "| 497 | 23 (14-03-1996) | Netherlands | Left-handed | Wikipedia | 495 (60) | 342 (05-08-2019) | Gijs Brouwer    | NA         | NA      | ⋯ | NA | NA | NA | NA | NA | NA | NA | NA | NA | NA |\n",
       "| 498 | 24 (17-05-1995) | Ukraine     | NA          | Wikipedia | 419 (81) | 419 (20-01-2020) | Vladyslav Orlov | NA         | NA      | ⋯ | NA | NA | NA | NA | NA | NA | NA | NA | NA | NA |\n",
       "| 499 | 22 (26-03-1997) | Tunisia     | Left-handed | Wikipedia | 451 (69) | 408 (24-12-2018) | Aziz Dougaz     | Two-handed | $61,984 | ⋯ | NA | NA | NA | NA | NA | NA | NA | NA | NA | NA |\n",
       "\n"
      ],
      "text/plain": [
       "    ...1 Age             Country        Plays        Wikipedia Current Rank\n",
       "1   0    26 (25-04-1993) Brazil         Right-handed Wikipedia 378 (97)    \n",
       "2   1    18 (22-12-2001) United Kingdom Left-handed  Wikipedia 326 (119)   \n",
       "3   2    32 (03-11-1987) Slovakia       Right-handed Wikipedia 178 (280)   \n",
       "⋮   ⋮    ⋮               ⋮              ⋮            ⋮         ⋮           \n",
       "498 497  23 (14-03-1996) Netherlands    Left-handed  Wikipedia 495 (60)    \n",
       "499 498  24 (17-05-1995) Ukraine        NA           Wikipedia 419 (81)    \n",
       "500 499  22 (26-03-1997) Tunisia        Left-handed  Wikipedia 451 (69)    \n",
       "    Best Rank        Name                 Backhand   Prize Money  ⋯ Facebook\n",
       "1   363 (04-11-2019) Oscar Jose Gutierrez NA         NA           ⋯ NA      \n",
       "2   316 (14-10-2019) Jack Draper          Two-handed $59,040      ⋯ NA      \n",
       "3   44 (14-01-2013)  Lukas Lacko          Two-handed US$3,261,567 ⋯ NA      \n",
       "⋮   ⋮                ⋮                    ⋮          ⋮            ⋱ ⋮       \n",
       "498 342 (05-08-2019) Gijs Brouwer         NA         NA           ⋯ NA      \n",
       "499 419 (20-01-2020) Vladyslav Orlov      NA         NA           ⋯ NA      \n",
       "500 408 (24-12-2018) Aziz Dougaz          Two-handed $61,984      ⋯ NA      \n",
       "    Twitter Nicknames Grand Slams Davis Cups Web Site Team Cups Olympics\n",
       "1   NA      NA        NA          NA         NA       NA        NA      \n",
       "2   NA      NA        NA          NA         NA       NA        NA      \n",
       "3   NA      NA        NA          NA         NA       NA        NA      \n",
       "⋮   ⋮       ⋮         ⋮           ⋮          ⋮        ⋮         ⋮       \n",
       "498 NA      NA        NA          NA         NA       NA        NA      \n",
       "499 NA      NA        NA          NA         NA       NA        NA      \n",
       "500 NA      NA        NA          NA         NA       NA        NA      \n",
       "    Weeks at No. 1 Tour Finals\n",
       "1   NA             NA         \n",
       "2   NA             NA         \n",
       "3   NA             NA         \n",
       "⋮   ⋮              ⋮          \n",
       "498 NA             NA         \n",
       "499 NA             NA         \n",
       "500 NA             NA         "
      ]
     },
     "metadata": {},
     "output_type": "display_data"
    }
   ],
   "source": [
    "raw_data <- read_csv(\"https://drive.google.com/uc?export=download&id=1_MECmUXZuuILYeEOfonSGqodW6qVdhsS\")\n",
    "raw_data"
   ]
  },
  {
   "cell_type": "markdown",
   "id": "4736ce21",
   "metadata": {},
   "source": [
    "Now that we have assigned the raw data frame to an object, it is time to clean and wrangle it into a tidy format. We will do so by renaming columns, selecting only the columns we need, and changing the data type of the columns."
   ]
  },
  {
   "cell_type": "code",
   "execution_count": 3,
   "id": "e6882c64",
   "metadata": {},
   "outputs": [],
   "source": [
    "renamed_columns <- raw_data |>\n",
    "    rename(\"Best.Rank\" = \"Best Rank\") |>\n",
    "    rename(\"Prize.Money\" = \"Prize Money\")\n",
    "\n",
    "data <- renamed_columns |>\n",
    "    select(\"Best.Rank\", \"Seasons\", \"Titles\", \"Prize.Money\")\n",
    "\n",
    "tidy <- data |>\n",
    "    separate(col = Best.Rank, into = c(\"best.rank\", \"date.of.best.rank\"), \n",
    "             sep = \" \", , convert = TRUE) |>\n",
    "    select(\"best.rank\", \"Seasons\", \"Titles\", \"Prize.Money\") |>\n",
    "    mutate(Titles = as.logical(Titles))   |>\n",
    "    mutate_if(is.logical, ~replace_na(., FALSE)) |>\n",
    "    mutate(Titles = as_factor(Titles)) |>\n",
    "    mutate(Prize.Money = parse_number(Prize.Money, na = c(\"NA\", \"Nothing\")))"
   ]
  },
  {
   "cell_type": "markdown",
   "id": "9048935e",
   "metadata": {},
   "source": [
    "Now that we are finished tidying the data, we can create a 3/4 split on the data set to partition it into training and testing sets."
   ]
  },
  {
   "cell_type": "code",
   "execution_count": 4,
   "id": "63587995",
   "metadata": {},
   "outputs": [],
   "source": [
    "tennis_split <- initial_split(tidy, prop = 0.75, strata = Titles)\n",
    "tennis_train <- training(tennis_split) |> na.omit()\n",
    "tennis_test <- testing(tennis_split) |> na.omit()"
   ]
  },
  {
   "cell_type": "markdown",
   "id": "81138ef7-fd14-44e5-a0b3-8160d2cc6cc8",
   "metadata": {},
   "source": [
    "After splitting the tidy data set into training and testing data (with the ratio being 3:1), we summarized the training data into a table. The table reports the number of observations in each class (title vs no title), the means and the standard deviations of the predictor variables we plan to use in our analysis."
   ]
  },
  {
   "cell_type": "code",
   "execution_count": 5,
   "id": "79d90c47-f35c-4a5d-a247-03b502e6fa5e",
   "metadata": {},
   "outputs": [
    {
     "data": {
      "text/html": [
       "<table class=\"dataframe\">\n",
       "<caption>A tibble: 2 × 8</caption>\n",
       "<thead>\n",
       "\t<tr><th scope=col>Titles</th><th scope=col>average_best_rank</th><th scope=col>sd_best_rank</th><th scope=col>average_seasons</th><th scope=col>sd_seasons</th><th scope=col>average_prize_money</th><th scope=col>sd_prize_money</th><th scope=col>number_of_observations</th></tr>\n",
       "\t<tr><th scope=col>&lt;fct&gt;</th><th scope=col>&lt;dbl&gt;</th><th scope=col>&lt;dbl&gt;</th><th scope=col>&lt;dbl&gt;</th><th scope=col>&lt;dbl&gt;</th><th scope=col>&lt;dbl&gt;</th><th scope=col>&lt;dbl&gt;</th><th scope=col>&lt;int&gt;</th></tr>\n",
       "</thead>\n",
       "<tbody>\n",
       "\t<tr><td>FALSE</td><td>162.28643</td><td>101.02247</td><td> 4.718593</td><td>3.609920</td><td>  736687.5</td><td> 1032614</td><td>199</td></tr>\n",
       "\t<tr><td>TRUE </td><td> 20.38028</td><td> 15.94935</td><td>11.211268</td><td>4.513204</td><td>11298131.1</td><td>17817677</td><td> 71</td></tr>\n",
       "</tbody>\n",
       "</table>\n"
      ],
      "text/latex": [
       "A tibble: 2 × 8\n",
       "\\begin{tabular}{llllllll}\n",
       " Titles & average\\_best\\_rank & sd\\_best\\_rank & average\\_seasons & sd\\_seasons & average\\_prize\\_money & sd\\_prize\\_money & number\\_of\\_observations\\\\\n",
       " <fct> & <dbl> & <dbl> & <dbl> & <dbl> & <dbl> & <dbl> & <int>\\\\\n",
       "\\hline\n",
       "\t FALSE & 162.28643 & 101.02247 &  4.718593 & 3.609920 &   736687.5 &  1032614 & 199\\\\\n",
       "\t TRUE  &  20.38028 &  15.94935 & 11.211268 & 4.513204 & 11298131.1 & 17817677 &  71\\\\\n",
       "\\end{tabular}\n"
      ],
      "text/markdown": [
       "\n",
       "A tibble: 2 × 8\n",
       "\n",
       "| Titles &lt;fct&gt; | average_best_rank &lt;dbl&gt; | sd_best_rank &lt;dbl&gt; | average_seasons &lt;dbl&gt; | sd_seasons &lt;dbl&gt; | average_prize_money &lt;dbl&gt; | sd_prize_money &lt;dbl&gt; | number_of_observations &lt;int&gt; |\n",
       "|---|---|---|---|---|---|---|---|\n",
       "| FALSE | 162.28643 | 101.02247 |  4.718593 | 3.609920 |   736687.5 |  1032614 | 199 |\n",
       "| TRUE  |  20.38028 |  15.94935 | 11.211268 | 4.513204 | 11298131.1 | 17817677 |  71 |\n",
       "\n"
      ],
      "text/plain": [
       "  Titles average_best_rank sd_best_rank average_seasons sd_seasons\n",
       "1 FALSE  162.28643         101.02247     4.718593       3.609920  \n",
       "2 TRUE    20.38028          15.94935    11.211268       4.513204  \n",
       "  average_prize_money sd_prize_money number_of_observations\n",
       "1   736687.5           1032614       199                   \n",
       "2 11298131.1          17817677        71                   "
      ]
     },
     "metadata": {},
     "output_type": "display_data"
    }
   ],
   "source": [
    "summarized_table <- tennis_train |>\n",
    "    group_by(Titles) |>\n",
    "    summarize(average_best_rank = mean(best.rank, na.rm = TRUE),\n",
    "              sd_best_rank = sd(best.rank, na.rm = TRUE),\n",
    "              average_seasons = mean(Seasons, na.rm = TRUE),\n",
    "              sd_seasons = sd(Seasons, na.rm = TRUE),\n",
    "              average_prize_money = mean(Prize.Money, na.rm = TRUE),\n",
    "              sd_prize_money = sd(Prize.Money, na.rm = TRUE),\n",
    "              number_of_observations = n()) \n",
    "summarized_table"
   ]
  },
  {
   "cell_type": "markdown",
   "id": "eaa7a2a0",
   "metadata": {},
   "source": [
    "We now move on to visualizing the training data with a box plot showcasing the difference in the predictor variables when grouping them accordingly to their Title."
   ]
  },
  {
   "cell_type": "code",
   "execution_count": 6,
   "id": "5392a695",
   "metadata": {},
   "outputs": [
    {
     "data": {
      "image/png": "[encoded data removed]",
      "text/plain": [
       "plot without title"
      ]
     },
     "metadata": {
      "image/png": {
       "height": 240,
       "width": 660
      }
     },
     "output_type": "display_data"
    }
   ],
   "source": [
    "options(repr.plot.width = 11, repr.plot.height = 4)\n",
    "plot_best_rank <- tennis_train |>\n",
    "    ggplot(aes(x = Titles, y = best.rank)) +\n",
    "    geom_boxplot() +\n",
    "    ylab(\"Best Rank\") +\n",
    "    ggtitle(\"Best Rank Predictor\")\n",
    "plot_seasons <- tennis_train |>\n",
    "    ggplot(aes(x = Titles, y = Seasons)) +\n",
    "    geom_boxplot() +\n",
    "    ylab(\"Number of Seasons Played\") +\n",
    "    ggtitle(\"Total Seasons Played Predictor\")\n",
    "plot_prize_money <- tennis_train |>\n",
    "    ggplot(aes(x = Titles, y = Prize.Money)) +\n",
    "    geom_boxplot() +\n",
    "    ylab(\"Total Prize Money\") +\n",
    "    ggtitle(\"Total Prize Money Won Predictor\")\n",
    "\n",
    "\n",
    "plot_grid(plot_seasons, plot_prize_money, plot_best_rank, nrow = 1)"
   ]
  },
  {
   "cell_type": "markdown",
   "id": "7d373b14",
   "metadata": {
    "tags": []
   },
   "source": [
    "### Methods\n",
    "\n",
    "In order to perform a K-nearest neighbors classification, we will first tidy the data set and split it into training and testing data. We will also center and scale the data so that the classification is not overly influenced by one predictor. Then, we will use cross-validation to tune the model and find the K-value with the highest accuracy. With that K-value, we will fit it to the training data, use that to predict the testing data, and see how accurate the model actually is. One way that we will visualize the results is by making a table showing the confusion matrix of the predictions compared to the actual data.\n",
    "\n",
    "The predictor variables we have chosen from this data set are best rank, number of seasons played and age. These were chosen as we see them as the most relevant in differentiating players and describing their success in playing tennis. Their best rank gives us information on how well they play compared to other players while number of seasons played and age shows a players experience, all of which should be strong indicators of their ability to play tennis."
   ]
  },
  {
   "cell_type": "code",
   "execution_count": 13,
   "id": "d81b9b26-e64c-4cf9-9365-5adca7a8c0e7",
   "metadata": {},
   "outputs": [],
   "source": [
    "# Scale and Center Recipe\n",
    "tennis_recipe <- recipe(Titles ~ Seasons + best.rank + Prize.Money, data = tennis_train) |>\n",
    "    step_scale(all_predictors()) |>\n",
    "    step_center(all_predictors())\n",
    "\n",
    "# KNN Tune Model Specification\n",
    "knn_tune <- nearest_neighbor(weight_func = \"rectangular\", neighbors = tune()) |>\n",
    "    set_engine(\"kknn\") |>\n",
    "    set_mode(\"classification\")\n",
    "\n",
    "# Cross Validation\n",
    "training_vfold <- vfold_cv(tennis_train, v = 10, strata = Titles)\n",
    "\n",
    "# K Values Vector\n",
    "k_vals <- tibble(neighbors = seq(from = 1, to = 50, by = 2))\n",
    "\n",
    "# Training Fit Workflow\n",
    "training_fit <- workflow() |>\n",
    "    add_recipe(tennis_recipe) |>\n",
    "    add_model(knn_tune) |>\n",
    "    tune_grid(resamples = training_vfold, grid = k_vals) |>\n",
    "    collect_metrics()"
   ]
  },
  {
   "cell_type": "code",
   "execution_count": 15,
   "id": "c779de98-f11c-46a2-9c42-cdaebec09e71",
   "metadata": {},
   "outputs": [
    {
     "data": {
      "text/html": [
       "<table class=\"dataframe\">\n",
       "<caption>A tibble: 2 × 3</caption>\n",
       "<thead>\n",
       "\t<tr><th scope=col>.metric</th><th scope=col>.estimator</th><th scope=col>.estimate</th></tr>\n",
       "\t<tr><th scope=col>&lt;chr&gt;</th><th scope=col>&lt;chr&gt;</th><th scope=col>&lt;dbl&gt;</th></tr>\n",
       "</thead>\n",
       "<tbody>\n",
       "\t<tr><td>accuracy</td><td>binary</td><td>0.9175258</td></tr>\n",
       "\t<tr><td>kap     </td><td>binary</td><td>0.7721668</td></tr>\n",
       "</tbody>\n",
       "</table>\n"
      ],
      "text/latex": [
       "A tibble: 2 × 3\n",
       "\\begin{tabular}{lll}\n",
       " .metric & .estimator & .estimate\\\\\n",
       " <chr> & <chr> & <dbl>\\\\\n",
       "\\hline\n",
       "\t accuracy & binary & 0.9175258\\\\\n",
       "\t kap      & binary & 0.7721668\\\\\n",
       "\\end{tabular}\n"
      ],
      "text/markdown": [
       "\n",
       "A tibble: 2 × 3\n",
       "\n",
       "| .metric &lt;chr&gt; | .estimator &lt;chr&gt; | .estimate &lt;dbl&gt; |\n",
       "|---|---|---|\n",
       "| accuracy | binary | 0.9175258 |\n",
       "| kap      | binary | 0.7721668 |\n",
       "\n"
      ],
      "text/plain": [
       "  .metric  .estimator .estimate\n",
       "1 accuracy binary     0.9175258\n",
       "2 kap      binary     0.7721668"
      ]
     },
     "metadata": {},
     "output_type": "display_data"
    },
    {
     "data": {
      "text/plain": [
       "          Truth\n",
       "Prediction FALSE TRUE\n",
       "     FALSE    70    5\n",
       "     TRUE      3   19"
      ]
     },
     "metadata": {},
     "output_type": "display_data"
    }
   ],
   "source": [
    "# Best K neighbors\n",
    "best_k <- training_fit |>\n",
    "    filter(.metric == \"accuracy\") |>\n",
    "    arrange(mean) |>\n",
    "    tail(1) |>\n",
    "    select(neighbors) |>\n",
    "    pull()\n",
    "\n",
    "# KNN Specification with best K\n",
    "best_spec <- nearest_neighbor(weight_func = \"rectangular\", neighbors = best_k) |>\n",
    "    set_engine(\"kknn\") |>\n",
    "    set_mode(\"classification\")\n",
    "\n",
    "# Final Model Workflow\n",
    "tennis_fit <- workflow() |>\n",
    "    add_recipe(tennis_recipe) |>\n",
    "    add_model(best_spec) |>\n",
    "    fit(data = tennis_train)\n",
    "\n",
    "# Model Predictions\n",
    "tennis_predictions <- predict(tennis_fit, tennis_test) |>\n",
    "    bind_cols(tennis_test)\n",
    "\n",
    "# Model Prediction Metrics\n",
    "tennis_metrics <- tennis_predictions |>\n",
    "    metrics(truth = Titles, estimate = .pred_class)\n",
    "\n",
    "# Model Confusion Matrix\n",
    "tennis_conf_mat <- tennis_predictions |>\n",
    "    conf_mat(truth = Titles, estimate = .pred_class)\n",
    "\n",
    "tennis_metrics\n",
    "tennis_conf_mat"
   ]
  },
  {
   "cell_type": "markdown",
   "id": "5d5e090f",
   "metadata": {
    "tags": []
   },
   "source": [
    "### Expected Outcomes and Significance\n",
    "\n",
    "Through this exploration we believe that our model will be fairly capable at predicting whether a given player has won a title before given the variables of best rank, age, number of seasons played, historical prize money won, and age. Such a model could be helpful for players in determining where they stand amongst their competition as we build a better understanding of what goes into making a title-holding tennis player. A future project could look into determining whether or not a player will win a title given their stats and also information about the specific tournament they will play in. Can we predict the likelihood a given player will win a match? How accurate can this prediction be? Such questions could be very significant for the sports betting industry. As silly as that may sound, sports betting can play a significant role in generating revenue for the government through taxation. In 2022 sports betting set a quarterly revenue record of 1.68 billion dollars in the United States (Greenburg). Given these circumstances, being able to predict the outcome for a sport in any capacity could lead to a significant pay off.  \n"
   ]
  },
  {
   "cell_type": "markdown",
   "id": "bae316ad",
   "metadata": {},
   "source": [
    "### Citations\n",
    "\n",
    "Greenberg, D. (2022) *Sports betting industry just set a quarterly revenue record, Front Office Sports.* Available at: https://frontofficesports.com/sports-betting-industry-just-set-a-quarterly-revenue-record/ (Accessed: March 11, 2023). \n"
   ]
  }
 ],
 "metadata": {
  "kernelspec": {
   "display_name": "R",
   "language": "R",
   "name": "ir"
  },
  "language_info": {
   "codemirror_mode": "r",
   "file_extension": ".r",
   "mimetype": "text/x-r-source",
   "name": "R",
   "pygments_lexer": "r",
   "version": "4.1.3"
  }
 },
 "nbformat": 4,
 "nbformat_minor": 5
}
